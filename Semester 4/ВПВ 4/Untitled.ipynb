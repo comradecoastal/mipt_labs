{
 "cells": [
  {
   "cell_type": "code",
   "execution_count": 1,
   "id": "5b70e3af-e3df-44e6-a9b3-52689f86b6b1",
   "metadata": {},
   "outputs": [],
   "source": [
    "import pandas as pd\n",
    "import numpy as np\n",
    "import matplotlib.pyplot as plt\n",
    "from scipy.optimize import curve_fit\n",
    "from scipy.stats import norm\n",
    "\n",
    "\n",
    "from matplotlib import rcParams\n",
    "rcParams['font.family'] = 'serif'\n",
    "rcParams['mathtext.fontset'] = 'dejavuserif' \n",
    "rcParams['figure.figsize'] = (10, 7)\n",
    "rcParams['figure.dpi'] = 300\n",
    "rcParams['axes.grid'] = True\n",
    "rcParams['font.size'] = 14\n",
    "# rcParams"
   ]
  },
  {
   "cell_type": "code",
   "execution_count": 29,
   "id": "69b9d370-6b2c-48ce-835b-36460e912bb5",
   "metadata": {},
   "outputs": [],
   "source": [
    "with open(\"water_ior.csv\") as f:\n",
    "    water_ior = pd.read_csv(f)\n",
    "    \n",
    "water_ior[\"n\"] = pd.to_numeric(water_ior[\"n\"], errors='coerce')\n",
    "water_ior[\"wl\"] = pd.to_numeric(water_ior[\"wl\"], errors='coerce')"
   ]
  },
  {
   "cell_type": "code",
   "execution_count": 9,
   "id": "6eb579a4-5265-434c-b0cf-e6a798f5ca68",
   "metadata": {},
   "outputs": [],
   "source": [
    "def theta_max(n, deg=True):\n",
    "    sin_beta_max = np.sqrt(4 - n ** 2) / n / np.sqrt(3)\n",
    "    theta =  4 * np.arcsin(sin_beta_max) - 2 * np.arcsin(n * sin_beta_max)\n",
    "    if deg:\n",
    "        return theta *  180 / np.pi\n",
    "    return theta\n",
    "    "
   ]
  },
  {
   "cell_type": "code",
   "execution_count": 49,
   "id": "f1c4fb42-cfbb-412c-97a7-e6d5a7d2e17c",
   "metadata": {},
   "outputs": [
    {
     "data": {
      "text/plain": [
       "[<matplotlib.lines.Line2D at 0x7fa09051d1e0>]"
      ]
     },
     "execution_count": 49,
     "metadata": {},
     "output_type": "execute_result"
    },
    {
     "data": {
      "image/png": "[encoded data removed]",
      "text/plain": [
       "<Figure size 432x288 with 1 Axes>"
      ]
     },
     "metadata": {
      "needs_background": "light"
     },
     "output_type": "display_data"
    }
   ],
   "source": [
    "wl = water_ior[\"wl\"][8:24]\n",
    "n = water_ior[\"n\"][8:24]\n",
    "plt.plot(wl, theta_max(n))"
   ]
  },
  {
   "cell_type": "code",
   "execution_count": 12,
   "id": "dd8cca16-52e5-4d29-90d4-29d949bfc3cc",
   "metadata": {},
   "outputs": [
    {
     "data": {
      "text/html": [
       "<div>\n",
       "<style scoped>\n",
       "    .dataframe tbody tr th:only-of-type {\n",
       "        vertical-align: middle;\n",
       "    }\n",
       "\n",
       "    .dataframe tbody tr th {\n",
       "        vertical-align: top;\n",
       "    }\n",
       "\n",
       "    .dataframe thead th {\n",
       "        text-align: right;\n",
       "    }\n",
       "</style>\n",
       "<table border=\"1\" class=\"dataframe\">\n",
       "  <thead>\n",
       "    <tr style=\"text-align: right;\">\n",
       "      <th></th>\n",
       "      <th>wl</th>\n",
       "      <th>n</th>\n",
       "    </tr>\n",
       "  </thead>\n",
       "  <tbody>\n",
       "    <tr>\n",
       "      <th>0</th>\n",
       "      <td>0.200</td>\n",
       "      <td>1.396</td>\n",
       "    </tr>\n",
       "    <tr>\n",
       "      <th>1</th>\n",
       "      <td>0.225</td>\n",
       "      <td>1.373</td>\n",
       "    </tr>\n",
       "    <tr>\n",
       "      <th>2</th>\n",
       "      <td>0.250</td>\n",
       "      <td>1.362</td>\n",
       "    </tr>\n",
       "    <tr>\n",
       "      <th>3</th>\n",
       "      <td>0.275</td>\n",
       "      <td>1.354</td>\n",
       "    </tr>\n",
       "    <tr>\n",
       "      <th>4</th>\n",
       "      <td>0.300</td>\n",
       "      <td>1.349</td>\n",
       "    </tr>\n",
       "    <tr>\n",
       "      <th>...</th>\n",
       "      <td>...</td>\n",
       "      <td>...</td>\n",
       "    </tr>\n",
       "    <tr>\n",
       "      <th>334</th>\n",
       "      <td>160</td>\n",
       "      <td>0.496</td>\n",
       "    </tr>\n",
       "    <tr>\n",
       "      <th>335</th>\n",
       "      <td>170</td>\n",
       "      <td>0.497</td>\n",
       "    </tr>\n",
       "    <tr>\n",
       "      <th>336</th>\n",
       "      <td>180</td>\n",
       "      <td>0.499</td>\n",
       "    </tr>\n",
       "    <tr>\n",
       "      <th>337</th>\n",
       "      <td>190</td>\n",
       "      <td>0.501</td>\n",
       "    </tr>\n",
       "    <tr>\n",
       "      <th>338</th>\n",
       "      <td>200</td>\n",
       "      <td>0.504</td>\n",
       "    </tr>\n",
       "  </tbody>\n",
       "</table>\n",
       "<p>339 rows × 2 columns</p>\n",
       "</div>"
      ],
      "text/plain": [
       "        wl      n\n",
       "0    0.200  1.396\n",
       "1    0.225  1.373\n",
       "2    0.250  1.362\n",
       "3    0.275  1.354\n",
       "4    0.300  1.349\n",
       "..     ...    ...\n",
       "334    160  0.496\n",
       "335    170  0.497\n",
       "336    180  0.499\n",
       "337    190  0.501\n",
       "338    200  0.504\n",
       "\n",
       "[339 rows x 2 columns]"
      ]
     },
     "execution_count": 12,
     "metadata": {},
     "output_type": "execute_result"
    }
   ],
   "source": [
    "water_ior"
   ]
  },
  {
   "cell_type": "code",
   "execution_count": null,
   "id": "de5a4bc1-8f1a-4c7e-b216-e4b14b3cbbac",
   "metadata": {},
   "outputs": [],
   "source": []
  }
 ],
 "metadata": {
  "kernelspec": {
   "display_name": "Python 3 (ipykernel)",
   "language": "python",
   "name": "python3"
  },
  "language_info": {
   "codemirror_mode": {
    "name": "ipython",
    "version": 3
   },
   "file_extension": ".py",
   "mimetype": "text/x-python",
   "name": "python",
   "nbconvert_exporter": "python",
   "pygments_lexer": "ipython3",
   "version": "3.10.4"
  }
 },
 "nbformat": 4,
 "nbformat_minor": 5
}
